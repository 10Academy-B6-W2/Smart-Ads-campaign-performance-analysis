{
 "cells": [
  {
   "cell_type": "markdown",
   "id": "d8238d59",
   "metadata": {},
   "source": [
    "## MACHINE LEARNING A/B TESTING"
   ]
  },
  {
   "cell_type": "markdown",
   "id": "dd399e7b",
   "metadata": {},
   "source": [
    "A/b testing compares the conversion rates of only two groups; Exposed group and the Control group. But in the real world, the situation and even the behaviours of online users is complex and more dynamic. Situations such as:\n",
    "\n",
    "Online users spend a different amount of time in the Advertisement. Users take different paths to the Ad. Users use different devices and Also view the Ad on different dates.\n",
    "With all these complexity, machine learning helps in generating insights from these complex systems."
   ]
  },
  {
   "cell_type": "markdown",
   "id": "138e7f46",
   "metadata": {},
   "source": [
    "#### Importing Libraries"
   ]
  },
  {
   "cell_type": "code",
   "execution_count": 1,
   "id": "6bbe6bb4",
   "metadata": {},
   "outputs": [],
   "source": [
    "import os\n",
    "import sys\n",
    "sys.path.append(os.path.abspath(os.path.join('../scripts')))"
   ]
  },
  {
   "cell_type": "code",
   "execution_count": 2,
   "id": "85ef9d7a",
   "metadata": {},
   "outputs": [],
   "source": [
    "# import libraries\n",
    "import pandas as pd\n",
    "import seaborn as sb\n",
    "import matplotlib.pyplot as plt\n",
    "import numpy as np\n",
    "%matplotlib inline\n",
    "from sklearn import preprocessing\n",
    "from itertools import islice\n",
    "import seaborn as sns\n",
    "from sklearn.model_selection import train_test_split\n",
    "from sklearn.model_selection import KFold\n",
    "#import statsmodels.api as sm\n",
    "from sklearn.metrics import mean_squared_error, r2_score, mean_absolute_error\n",
    "from sklearn import metrics\n",
    "import scipy.stats as stat\n",
    "from sklearn.metrics import accuracy_score\n",
    "\n",
    "from sklearn.ensemble import RandomForestClassifier\n",
    "from sklearn.tree import DecisionTreeClassifier\n",
    "from sklearn.linear_model import LogisticRegression\n",
    "from xgboost import XGBClassifier\n",
    "\n",
    "from sklearn.preprocessing import StandardScaler\n",
    "from sklearn.model_selection import cross_val_score\n",
    "from sklearn.preprocessing import LabelEncoder\n",
    "from six import StringIO\n",
    "from IPython.display import Image  \n",
    "from sklearn.tree import export_graphviz\n",
    "from IPython.display import Image  \n",
    "\n",
    "from sklearn.tree import export_graphviz\n",
    "import pydotplus\n",
    "from sklearn import tree\n",
    "\n",
    "\n",
    "import warnings\n",
    "warnings.filterwarnings('ignore')\n",
    "import dvc.api"
   ]
  },
  {
   "cell_type": "markdown",
   "id": "7d904cf0",
   "metadata": {},
   "source": [
    "#### Importing Scripts "
   ]
  },
  {
   "cell_type": "code",
   "execution_count": 3,
   "id": "1e1c5909",
   "metadata": {},
   "outputs": [],
   "source": [
    "from randforest import RandomForestClassifierModel\n",
    "from decisiontree import DecisionTreesModel\n",
    "from logesticregression import LogesticRegressionModel\n",
    "#from xgboost import XGBClassifierModel\n",
    "from file import Myfile\n",
    "import util\n",
    "import plot\n"
   ]
  },
  {
   "cell_type": "code",
   "execution_count": 4,
   "id": "f0634e3f",
   "metadata": {},
   "outputs": [],
   "source": [
    "path = \"../data/AdSmartABdata.csv\""
   ]
  },
  {
   "cell_type": "code",
   "execution_count": 8,
   "id": "b3b5b819",
   "metadata": {},
   "outputs": [],
   "source": [
    "# initialize the class that has utility function we are going to use\n",
    "file = Myfile()"
   ]
  },
  {
   "cell_type": "code",
   "execution_count": 7,
   "id": "09158248",
   "metadata": {},
   "outputs": [
    {
     "name": "stdout",
     "output_type": "stream",
     "text": [
      "--> file read as csv\n"
     ]
    }
   ],
   "source": [
    "# we use our file function to read csv data\n",
    "df = file.read_csv(path)"
   ]
  },
  {
   "cell_type": "code",
   "execution_count": 9,
   "id": "a863ef14",
   "metadata": {},
   "outputs": [
    {
     "data": {
      "text/html": [
       "<div>\n",
       "<style scoped>\n",
       "    .dataframe tbody tr th:only-of-type {\n",
       "        vertical-align: middle;\n",
       "    }\n",
       "\n",
       "    .dataframe tbody tr th {\n",
       "        vertical-align: top;\n",
       "    }\n",
       "\n",
       "    .dataframe thead th {\n",
       "        text-align: right;\n",
       "    }\n",
       "</style>\n",
       "<table border=\"1\" class=\"dataframe\">\n",
       "  <thead>\n",
       "    <tr style=\"text-align: right;\">\n",
       "      <th></th>\n",
       "      <th>auction_id</th>\n",
       "      <th>experiment</th>\n",
       "      <th>date</th>\n",
       "      <th>hour</th>\n",
       "      <th>device_make</th>\n",
       "      <th>platform_os</th>\n",
       "      <th>browser</th>\n",
       "      <th>yes</th>\n",
       "      <th>no</th>\n",
       "      <th>awareness</th>\n",
       "    </tr>\n",
       "  </thead>\n",
       "  <tbody>\n",
       "    <tr>\n",
       "      <th>0</th>\n",
       "      <td>0016d14a-ae18-4a02-a204-6ba53b52f2ed</td>\n",
       "      <td>exposed</td>\n",
       "      <td>2020-07-05</td>\n",
       "      <td>2</td>\n",
       "      <td>E5823</td>\n",
       "      <td>6</td>\n",
       "      <td>Chrome Mobile WebView</td>\n",
       "      <td>0</td>\n",
       "      <td>1</td>\n",
       "      <td>0</td>\n",
       "    </tr>\n",
       "    <tr>\n",
       "      <th>1</th>\n",
       "      <td>008aafdf-deef-4482-8fec-d98e3da054da</td>\n",
       "      <td>exposed</td>\n",
       "      <td>2020-07-04</td>\n",
       "      <td>16</td>\n",
       "      <td>Generic Smartphone</td>\n",
       "      <td>6</td>\n",
       "      <td>Chrome Mobile</td>\n",
       "      <td>1</td>\n",
       "      <td>0</td>\n",
       "      <td>1</td>\n",
       "    </tr>\n",
       "    <tr>\n",
       "      <th>2</th>\n",
       "      <td>00a1384a-5118-4d1b-925b-6cdada50318d</td>\n",
       "      <td>exposed</td>\n",
       "      <td>2020-07-06</td>\n",
       "      <td>8</td>\n",
       "      <td>Generic Smartphone</td>\n",
       "      <td>6</td>\n",
       "      <td>Chrome Mobile</td>\n",
       "      <td>0</td>\n",
       "      <td>1</td>\n",
       "      <td>0</td>\n",
       "    </tr>\n",
       "    <tr>\n",
       "      <th>3</th>\n",
       "      <td>00b6fadb-10bd-49e3-a778-290da82f7a8d</td>\n",
       "      <td>control</td>\n",
       "      <td>2020-07-08</td>\n",
       "      <td>4</td>\n",
       "      <td>Samsung SM-A202F</td>\n",
       "      <td>6</td>\n",
       "      <td>Facebook</td>\n",
       "      <td>1</td>\n",
       "      <td>0</td>\n",
       "      <td>1</td>\n",
       "    </tr>\n",
       "    <tr>\n",
       "      <th>4</th>\n",
       "      <td>00ebf4a8-060f-4b99-93ac-c62724399483</td>\n",
       "      <td>control</td>\n",
       "      <td>2020-07-03</td>\n",
       "      <td>15</td>\n",
       "      <td>Generic Smartphone</td>\n",
       "      <td>6</td>\n",
       "      <td>Chrome Mobile</td>\n",
       "      <td>0</td>\n",
       "      <td>1</td>\n",
       "      <td>0</td>\n",
       "    </tr>\n",
       "  </tbody>\n",
       "</table>\n",
       "</div>"
      ],
      "text/plain": [
       "                             auction_id experiment        date  hour  \\\n",
       "0  0016d14a-ae18-4a02-a204-6ba53b52f2ed    exposed  2020-07-05     2   \n",
       "1  008aafdf-deef-4482-8fec-d98e3da054da    exposed  2020-07-04    16   \n",
       "2  00a1384a-5118-4d1b-925b-6cdada50318d    exposed  2020-07-06     8   \n",
       "3  00b6fadb-10bd-49e3-a778-290da82f7a8d    control  2020-07-08     4   \n",
       "4  00ebf4a8-060f-4b99-93ac-c62724399483    control  2020-07-03    15   \n",
       "\n",
       "          device_make  platform_os                browser  yes  no  awareness  \n",
       "0               E5823            6  Chrome Mobile WebView    0   1          0  \n",
       "1  Generic Smartphone            6          Chrome Mobile    1   0          1  \n",
       "2  Generic Smartphone            6          Chrome Mobile    0   1          0  \n",
       "3    Samsung SM-A202F            6               Facebook    1   0          1  \n",
       "4  Generic Smartphone            6          Chrome Mobile    0   1          0  "
      ]
     },
     "execution_count": 9,
     "metadata": {},
     "output_type": "execute_result"
    }
   ],
   "source": [
    "#top 5 raws\n",
    "df.head()"
   ]
  },
  {
   "cell_type": "markdown",
   "id": "d290c0fa",
   "metadata": {},
   "source": [
    "#### K-Fold Cross-validation\n",
    "Cross-validation is a resampling procedure used to evaluate machine learning models on a limited data sample.\n",
    "\n",
    "The procedure has a single parameter called k that refers to the number of groups that a given data sample is to be split into. As such, the procedure is often called k-fold cross-validation.\n",
    "\n",
    "Cross-validation is primarily used in applied machine learning to estimate the skill of a machine learning model on unseen data. \n",
    "\n",
    "1. Logistic Regression\n",
    "2. Decision Tree\n",
    "3. RandomForest\n",
    "4. XGBoost"
   ]
  },
  {
   "cell_type": "markdown",
   "id": "4d34c37c",
   "metadata": {},
   "source": [
    "#### Drop observations where users didn't respond to the questionaire"
   ]
  },
  {
   "cell_type": "code",
   "execution_count": 10,
   "id": "3a31e8f4",
   "metadata": {},
   "outputs": [
    {
     "data": {
      "text/html": [
       "<div>\n",
       "<style scoped>\n",
       "    .dataframe tbody tr th:only-of-type {\n",
       "        vertical-align: middle;\n",
       "    }\n",
       "\n",
       "    .dataframe tbody tr th {\n",
       "        vertical-align: top;\n",
       "    }\n",
       "\n",
       "    .dataframe thead th {\n",
       "        text-align: right;\n",
       "    }\n",
       "</style>\n",
       "<table border=\"1\" class=\"dataframe\">\n",
       "  <thead>\n",
       "    <tr style=\"text-align: right;\">\n",
       "      <th></th>\n",
       "      <th>auction_id</th>\n",
       "      <th>experiment</th>\n",
       "      <th>date</th>\n",
       "      <th>hour</th>\n",
       "      <th>device_make</th>\n",
       "      <th>platform_os</th>\n",
       "      <th>browser</th>\n",
       "      <th>yes</th>\n",
       "      <th>no</th>\n",
       "      <th>awareness</th>\n",
       "    </tr>\n",
       "  </thead>\n",
       "  <tbody>\n",
       "    <tr>\n",
       "      <th>0</th>\n",
       "      <td>0016d14a-ae18-4a02-a204-6ba53b52f2ed</td>\n",
       "      <td>exposed</td>\n",
       "      <td>2020-07-05</td>\n",
       "      <td>2</td>\n",
       "      <td>E5823</td>\n",
       "      <td>6</td>\n",
       "      <td>Chrome Mobile WebView</td>\n",
       "      <td>0</td>\n",
       "      <td>1</td>\n",
       "      <td>0</td>\n",
       "    </tr>\n",
       "    <tr>\n",
       "      <th>1</th>\n",
       "      <td>008aafdf-deef-4482-8fec-d98e3da054da</td>\n",
       "      <td>exposed</td>\n",
       "      <td>2020-07-04</td>\n",
       "      <td>16</td>\n",
       "      <td>Generic Smartphone</td>\n",
       "      <td>6</td>\n",
       "      <td>Chrome Mobile</td>\n",
       "      <td>1</td>\n",
       "      <td>0</td>\n",
       "      <td>1</td>\n",
       "    </tr>\n",
       "    <tr>\n",
       "      <th>2</th>\n",
       "      <td>00a1384a-5118-4d1b-925b-6cdada50318d</td>\n",
       "      <td>exposed</td>\n",
       "      <td>2020-07-06</td>\n",
       "      <td>8</td>\n",
       "      <td>Generic Smartphone</td>\n",
       "      <td>6</td>\n",
       "      <td>Chrome Mobile</td>\n",
       "      <td>0</td>\n",
       "      <td>1</td>\n",
       "      <td>0</td>\n",
       "    </tr>\n",
       "    <tr>\n",
       "      <th>3</th>\n",
       "      <td>00b6fadb-10bd-49e3-a778-290da82f7a8d</td>\n",
       "      <td>control</td>\n",
       "      <td>2020-07-08</td>\n",
       "      <td>4</td>\n",
       "      <td>Samsung SM-A202F</td>\n",
       "      <td>6</td>\n",
       "      <td>Facebook</td>\n",
       "      <td>1</td>\n",
       "      <td>0</td>\n",
       "      <td>1</td>\n",
       "    </tr>\n",
       "    <tr>\n",
       "      <th>4</th>\n",
       "      <td>00ebf4a8-060f-4b99-93ac-c62724399483</td>\n",
       "      <td>control</td>\n",
       "      <td>2020-07-03</td>\n",
       "      <td>15</td>\n",
       "      <td>Generic Smartphone</td>\n",
       "      <td>6</td>\n",
       "      <td>Chrome Mobile</td>\n",
       "      <td>0</td>\n",
       "      <td>1</td>\n",
       "      <td>0</td>\n",
       "    </tr>\n",
       "  </tbody>\n",
       "</table>\n",
       "</div>"
      ],
      "text/plain": [
       "                             auction_id experiment        date  hour  \\\n",
       "0  0016d14a-ae18-4a02-a204-6ba53b52f2ed    exposed  2020-07-05     2   \n",
       "1  008aafdf-deef-4482-8fec-d98e3da054da    exposed  2020-07-04    16   \n",
       "2  00a1384a-5118-4d1b-925b-6cdada50318d    exposed  2020-07-06     8   \n",
       "3  00b6fadb-10bd-49e3-a778-290da82f7a8d    control  2020-07-08     4   \n",
       "4  00ebf4a8-060f-4b99-93ac-c62724399483    control  2020-07-03    15   \n",
       "\n",
       "          device_make  platform_os                browser  yes  no  awareness  \n",
       "0               E5823            6  Chrome Mobile WebView    0   1          0  \n",
       "1  Generic Smartphone            6          Chrome Mobile    1   0          1  \n",
       "2  Generic Smartphone            6          Chrome Mobile    0   1          0  \n",
       "3    Samsung SM-A202F            6               Facebook    1   0          1  \n",
       "4  Generic Smartphone            6          Chrome Mobile    0   1          0  "
      ]
     },
     "execution_count": 10,
     "metadata": {},
     "output_type": "execute_result"
    }
   ],
   "source": [
    "#drop columns where yes and no are both 0\n",
    "drop_null = df.query('yes==0 and no==0') \n",
    "df=df.drop(drop_null.index)\n",
    "df.head()"
   ]
  },
  {
   "cell_type": "markdown",
   "id": "89a10869",
   "metadata": {},
   "source": [
    "#### Creating 'awarness' column "
   ]
  },
  {
   "cell_type": "code",
   "execution_count": 11,
   "id": "e821d0c9",
   "metadata": {},
   "outputs": [],
   "source": [
    "def data(tag, \n",
    "            path='data/AdSmartABdata.csv', \n",
    "            repo ='C:/Users/user/Desktop/10Academy/Smart-Ads-campaign-performance-analysis'\n",
    "):\n",
    "    rev = tag\n",
    "    data_url = dvc.api.get_url(path=path, repo=repo, rev=rev)\n",
    "    df = pd.read_csv(data_url)\n",
    "    return df"
   ]
  },
  {
   "cell_type": "code",
   "execution_count": 12,
   "id": "6f6bb1f7",
   "metadata": {},
   "outputs": [],
   "source": [
    "# Function for creating an awareness column\n",
    "def awareness (row):\n",
    "    if row['yes'] == 1 :\n",
    "         return '1'\n",
    "    if row['no'] == 1 :\n",
    "        return '0'\n",
    "def calculate_metrics(y_test, y_preds):\n",
    "    \n",
    "    accuracy = accuracy_score(y_test, y_preds)\n",
    "    return accuracy"
   ]
  },
  {
   "cell_type": "code",
   "execution_count": 13,
   "id": "b508e1f1",
   "metadata": {},
   "outputs": [
    {
     "data": {
      "text/html": [
       "<div>\n",
       "<style scoped>\n",
       "    .dataframe tbody tr th:only-of-type {\n",
       "        vertical-align: middle;\n",
       "    }\n",
       "\n",
       "    .dataframe tbody tr th {\n",
       "        vertical-align: top;\n",
       "    }\n",
       "\n",
       "    .dataframe thead th {\n",
       "        text-align: right;\n",
       "    }\n",
       "</style>\n",
       "<table border=\"1\" class=\"dataframe\">\n",
       "  <thead>\n",
       "    <tr style=\"text-align: right;\">\n",
       "      <th></th>\n",
       "      <th>auction_id</th>\n",
       "      <th>experiment</th>\n",
       "      <th>date</th>\n",
       "      <th>hour</th>\n",
       "      <th>device_make</th>\n",
       "      <th>platform_os</th>\n",
       "      <th>browser</th>\n",
       "      <th>yes</th>\n",
       "      <th>no</th>\n",
       "      <th>awareness</th>\n",
       "    </tr>\n",
       "  </thead>\n",
       "  <tbody>\n",
       "    <tr>\n",
       "      <th>0</th>\n",
       "      <td>0016d14a-ae18-4a02-a204-6ba53b52f2ed</td>\n",
       "      <td>exposed</td>\n",
       "      <td>2020-07-05</td>\n",
       "      <td>2</td>\n",
       "      <td>E5823</td>\n",
       "      <td>6</td>\n",
       "      <td>Chrome Mobile WebView</td>\n",
       "      <td>0</td>\n",
       "      <td>1</td>\n",
       "      <td>0</td>\n",
       "    </tr>\n",
       "    <tr>\n",
       "      <th>1</th>\n",
       "      <td>008aafdf-deef-4482-8fec-d98e3da054da</td>\n",
       "      <td>exposed</td>\n",
       "      <td>2020-07-04</td>\n",
       "      <td>16</td>\n",
       "      <td>Generic Smartphone</td>\n",
       "      <td>6</td>\n",
       "      <td>Chrome Mobile</td>\n",
       "      <td>1</td>\n",
       "      <td>0</td>\n",
       "      <td>1</td>\n",
       "    </tr>\n",
       "    <tr>\n",
       "      <th>2</th>\n",
       "      <td>00a1384a-5118-4d1b-925b-6cdada50318d</td>\n",
       "      <td>exposed</td>\n",
       "      <td>2020-07-06</td>\n",
       "      <td>8</td>\n",
       "      <td>Generic Smartphone</td>\n",
       "      <td>6</td>\n",
       "      <td>Chrome Mobile</td>\n",
       "      <td>0</td>\n",
       "      <td>1</td>\n",
       "      <td>0</td>\n",
       "    </tr>\n",
       "    <tr>\n",
       "      <th>3</th>\n",
       "      <td>00b6fadb-10bd-49e3-a778-290da82f7a8d</td>\n",
       "      <td>control</td>\n",
       "      <td>2020-07-08</td>\n",
       "      <td>4</td>\n",
       "      <td>Samsung SM-A202F</td>\n",
       "      <td>6</td>\n",
       "      <td>Facebook</td>\n",
       "      <td>1</td>\n",
       "      <td>0</td>\n",
       "      <td>1</td>\n",
       "    </tr>\n",
       "    <tr>\n",
       "      <th>4</th>\n",
       "      <td>00ebf4a8-060f-4b99-93ac-c62724399483</td>\n",
       "      <td>control</td>\n",
       "      <td>2020-07-03</td>\n",
       "      <td>15</td>\n",
       "      <td>Generic Smartphone</td>\n",
       "      <td>6</td>\n",
       "      <td>Chrome Mobile</td>\n",
       "      <td>0</td>\n",
       "      <td>1</td>\n",
       "      <td>0</td>\n",
       "    </tr>\n",
       "  </tbody>\n",
       "</table>\n",
       "</div>"
      ],
      "text/plain": [
       "                             auction_id experiment        date  hour  \\\n",
       "0  0016d14a-ae18-4a02-a204-6ba53b52f2ed    exposed  2020-07-05     2   \n",
       "1  008aafdf-deef-4482-8fec-d98e3da054da    exposed  2020-07-04    16   \n",
       "2  00a1384a-5118-4d1b-925b-6cdada50318d    exposed  2020-07-06     8   \n",
       "3  00b6fadb-10bd-49e3-a778-290da82f7a8d    control  2020-07-08     4   \n",
       "4  00ebf4a8-060f-4b99-93ac-c62724399483    control  2020-07-03    15   \n",
       "\n",
       "          device_make  platform_os                browser  yes  no awareness  \n",
       "0               E5823            6  Chrome Mobile WebView    0   1         0  \n",
       "1  Generic Smartphone            6          Chrome Mobile    1   0         1  \n",
       "2  Generic Smartphone            6          Chrome Mobile    0   1         0  \n",
       "3    Samsung SM-A202F            6               Facebook    1   0         1  \n",
       "4  Generic Smartphone            6          Chrome Mobile    0   1         0  "
      ]
     },
     "execution_count": 13,
     "metadata": {},
     "output_type": "execute_result"
    }
   ],
   "source": [
    "# apply awareness to each row\n",
    "df['awareness'] = df.apply (lambda row: awareness(row), axis=1) \n",
    "df.head()"
   ]
  },
  {
   "cell_type": "code",
   "execution_count": 14,
   "id": "830979ca",
   "metadata": {},
   "outputs": [
    {
     "name": "stdout",
     "output_type": "stream",
     "text": [
      "--> File Successfully Saved.!!!\n"
     ]
    },
    {
     "data": {
      "text/html": [
       "<div>\n",
       "<style scoped>\n",
       "    .dataframe tbody tr th:only-of-type {\n",
       "        vertical-align: middle;\n",
       "    }\n",
       "\n",
       "    .dataframe tbody tr th {\n",
       "        vertical-align: top;\n",
       "    }\n",
       "\n",
       "    .dataframe thead th {\n",
       "        text-align: right;\n",
       "    }\n",
       "</style>\n",
       "<table border=\"1\" class=\"dataframe\">\n",
       "  <thead>\n",
       "    <tr style=\"text-align: right;\">\n",
       "      <th></th>\n",
       "      <th>auction_id</th>\n",
       "      <th>experiment</th>\n",
       "      <th>date</th>\n",
       "      <th>hour</th>\n",
       "      <th>device_make</th>\n",
       "      <th>platform_os</th>\n",
       "      <th>browser</th>\n",
       "      <th>yes</th>\n",
       "      <th>no</th>\n",
       "      <th>awareness</th>\n",
       "    </tr>\n",
       "  </thead>\n",
       "  <tbody>\n",
       "    <tr>\n",
       "      <th>0</th>\n",
       "      <td>0016d14a-ae18-4a02-a204-6ba53b52f2ed</td>\n",
       "      <td>exposed</td>\n",
       "      <td>2020-07-05</td>\n",
       "      <td>2</td>\n",
       "      <td>E5823</td>\n",
       "      <td>6</td>\n",
       "      <td>Chrome Mobile WebView</td>\n",
       "      <td>0</td>\n",
       "      <td>1</td>\n",
       "      <td>0</td>\n",
       "    </tr>\n",
       "    <tr>\n",
       "      <th>1</th>\n",
       "      <td>008aafdf-deef-4482-8fec-d98e3da054da</td>\n",
       "      <td>exposed</td>\n",
       "      <td>2020-07-04</td>\n",
       "      <td>16</td>\n",
       "      <td>Generic Smartphone</td>\n",
       "      <td>6</td>\n",
       "      <td>Chrome Mobile</td>\n",
       "      <td>1</td>\n",
       "      <td>0</td>\n",
       "      <td>1</td>\n",
       "    </tr>\n",
       "    <tr>\n",
       "      <th>2</th>\n",
       "      <td>00a1384a-5118-4d1b-925b-6cdada50318d</td>\n",
       "      <td>exposed</td>\n",
       "      <td>2020-07-06</td>\n",
       "      <td>8</td>\n",
       "      <td>Generic Smartphone</td>\n",
       "      <td>6</td>\n",
       "      <td>Chrome Mobile</td>\n",
       "      <td>0</td>\n",
       "      <td>1</td>\n",
       "      <td>0</td>\n",
       "    </tr>\n",
       "    <tr>\n",
       "      <th>3</th>\n",
       "      <td>00b6fadb-10bd-49e3-a778-290da82f7a8d</td>\n",
       "      <td>control</td>\n",
       "      <td>2020-07-08</td>\n",
       "      <td>4</td>\n",
       "      <td>Samsung SM-A202F</td>\n",
       "      <td>6</td>\n",
       "      <td>Facebook</td>\n",
       "      <td>1</td>\n",
       "      <td>0</td>\n",
       "      <td>1</td>\n",
       "    </tr>\n",
       "    <tr>\n",
       "      <th>4</th>\n",
       "      <td>00ebf4a8-060f-4b99-93ac-c62724399483</td>\n",
       "      <td>control</td>\n",
       "      <td>2020-07-03</td>\n",
       "      <td>15</td>\n",
       "      <td>Generic Smartphone</td>\n",
       "      <td>6</td>\n",
       "      <td>Chrome Mobile</td>\n",
       "      <td>0</td>\n",
       "      <td>1</td>\n",
       "      <td>0</td>\n",
       "    </tr>\n",
       "    <tr>\n",
       "      <th>...</th>\n",
       "      <td>...</td>\n",
       "      <td>...</td>\n",
       "      <td>...</td>\n",
       "      <td>...</td>\n",
       "      <td>...</td>\n",
       "      <td>...</td>\n",
       "      <td>...</td>\n",
       "      <td>...</td>\n",
       "      <td>...</td>\n",
       "      <td>...</td>\n",
       "    </tr>\n",
       "    <tr>\n",
       "      <th>1238</th>\n",
       "      <td>ffa08ff9-a132-4051-aef5-01a9c79367bc</td>\n",
       "      <td>exposed</td>\n",
       "      <td>2020-07-05</td>\n",
       "      <td>21</td>\n",
       "      <td>Generic Smartphone</td>\n",
       "      <td>6</td>\n",
       "      <td>Chrome Mobile</td>\n",
       "      <td>1</td>\n",
       "      <td>0</td>\n",
       "      <td>1</td>\n",
       "    </tr>\n",
       "    <tr>\n",
       "      <th>1239</th>\n",
       "      <td>ffb176df-ecd2-45d3-b05f-05b173a093a7</td>\n",
       "      <td>exposed</td>\n",
       "      <td>2020-07-04</td>\n",
       "      <td>1</td>\n",
       "      <td>Generic Smartphone</td>\n",
       "      <td>6</td>\n",
       "      <td>Chrome Mobile</td>\n",
       "      <td>1</td>\n",
       "      <td>0</td>\n",
       "      <td>1</td>\n",
       "    </tr>\n",
       "    <tr>\n",
       "      <th>1240</th>\n",
       "      <td>ffb79718-6f25-4896-b6b3-e58b80a6e147</td>\n",
       "      <td>control</td>\n",
       "      <td>2020-07-09</td>\n",
       "      <td>7</td>\n",
       "      <td>Generic Smartphone</td>\n",
       "      <td>6</td>\n",
       "      <td>Chrome Mobile</td>\n",
       "      <td>0</td>\n",
       "      <td>1</td>\n",
       "      <td>0</td>\n",
       "    </tr>\n",
       "    <tr>\n",
       "      <th>1241</th>\n",
       "      <td>ffca1153-c182-4f32-9e90-2a6008417497</td>\n",
       "      <td>control</td>\n",
       "      <td>2020-07-10</td>\n",
       "      <td>16</td>\n",
       "      <td>Generic Smartphone</td>\n",
       "      <td>6</td>\n",
       "      <td>Chrome Mobile</td>\n",
       "      <td>0</td>\n",
       "      <td>1</td>\n",
       "      <td>0</td>\n",
       "    </tr>\n",
       "    <tr>\n",
       "      <th>1242</th>\n",
       "      <td>ffdfdc09-48c7-4bfb-80f8-ec1eb633602b</td>\n",
       "      <td>exposed</td>\n",
       "      <td>2020-07-03</td>\n",
       "      <td>4</td>\n",
       "      <td>Generic Smartphone</td>\n",
       "      <td>6</td>\n",
       "      <td>Chrome Mobile</td>\n",
       "      <td>0</td>\n",
       "      <td>1</td>\n",
       "      <td>0</td>\n",
       "    </tr>\n",
       "  </tbody>\n",
       "</table>\n",
       "<p>1243 rows × 10 columns</p>\n",
       "</div>"
      ],
      "text/plain": [
       "                                auction_id experiment        date  hour  \\\n",
       "0     0016d14a-ae18-4a02-a204-6ba53b52f2ed    exposed  2020-07-05     2   \n",
       "1     008aafdf-deef-4482-8fec-d98e3da054da    exposed  2020-07-04    16   \n",
       "2     00a1384a-5118-4d1b-925b-6cdada50318d    exposed  2020-07-06     8   \n",
       "3     00b6fadb-10bd-49e3-a778-290da82f7a8d    control  2020-07-08     4   \n",
       "4     00ebf4a8-060f-4b99-93ac-c62724399483    control  2020-07-03    15   \n",
       "...                                    ...        ...         ...   ...   \n",
       "1238  ffa08ff9-a132-4051-aef5-01a9c79367bc    exposed  2020-07-05    21   \n",
       "1239  ffb176df-ecd2-45d3-b05f-05b173a093a7    exposed  2020-07-04     1   \n",
       "1240  ffb79718-6f25-4896-b6b3-e58b80a6e147    control  2020-07-09     7   \n",
       "1241  ffca1153-c182-4f32-9e90-2a6008417497    control  2020-07-10    16   \n",
       "1242  ffdfdc09-48c7-4bfb-80f8-ec1eb633602b    exposed  2020-07-03     4   \n",
       "\n",
       "             device_make  platform_os                browser  yes  no  \\\n",
       "0                  E5823            6  Chrome Mobile WebView    0   1   \n",
       "1     Generic Smartphone            6          Chrome Mobile    1   0   \n",
       "2     Generic Smartphone            6          Chrome Mobile    0   1   \n",
       "3       Samsung SM-A202F            6               Facebook    1   0   \n",
       "4     Generic Smartphone            6          Chrome Mobile    0   1   \n",
       "...                  ...          ...                    ...  ...  ..   \n",
       "1238  Generic Smartphone            6          Chrome Mobile    1   0   \n",
       "1239  Generic Smartphone            6          Chrome Mobile    1   0   \n",
       "1240  Generic Smartphone            6          Chrome Mobile    0   1   \n",
       "1241  Generic Smartphone            6          Chrome Mobile    0   1   \n",
       "1242  Generic Smartphone            6          Chrome Mobile    0   1   \n",
       "\n",
       "     awareness  \n",
       "0            0  \n",
       "1            1  \n",
       "2            0  \n",
       "3            1  \n",
       "4            0  \n",
       "...        ...  \n",
       "1238         1  \n",
       "1239         1  \n",
       "1240         0  \n",
       "1241         0  \n",
       "1242         0  \n",
       "\n",
       "[1243 rows x 10 columns]"
      ]
     },
     "execution_count": 14,
     "metadata": {},
     "output_type": "execute_result"
    }
   ],
   "source": [
    "clean_data = \"../data/AdSmartABdata.csv\"\n",
    "file.save_csv(df, clean_data)"
   ]
  },
  {
   "cell_type": "markdown",
   "id": "638d50e9",
   "metadata": {},
   "source": [
    "#### Transform categorical variables to numerical value"
   ]
  },
  {
   "cell_type": "code",
   "execution_count": 15,
   "id": "a2469aea",
   "metadata": {},
   "outputs": [],
   "source": [
    "# transform categorical variables to numerical value\n",
    "lb = LabelEncoder()\n",
    "df['awareness'] = lb.fit_transform(df['awareness'])\n",
    "df['device_make'] = lb.fit_transform(df['device_make'])\n",
    "df['date'] = lb.fit_transform(df['date'])\n",
    "df['experiment'] = lb.fit_transform(df['experiment'])\n",
    "df['browser'] = lb.fit_transform(df['browser'])"
   ]
  },
  {
   "cell_type": "markdown",
   "id": "9bd6029d",
   "metadata": {},
   "source": [
    "#### Data spliting by browser and platform"
   ]
  },
  {
   "cell_type": "code",
   "execution_count": 16,
   "id": "8883515a",
   "metadata": {},
   "outputs": [],
   "source": [
    "platfrom_df = df[[\"experiment\", \"hour\", \"date\", 'device_make', 'platform_os', 'awareness']]\n",
    "broweser_df = df[[\"experiment\", \"hour\", \"date\", 'device_make', 'browser', 'awareness']]"
   ]
  },
  {
   "cell_type": "markdown",
   "id": "6ebf7279",
   "metadata": {},
   "source": [
    "Top 5 raws grouped by platform os"
   ]
  },
  {
   "cell_type": "code",
   "execution_count": 18,
   "id": "027372d8",
   "metadata": {},
   "outputs": [
    {
     "data": {
      "text/html": [
       "<div>\n",
       "<style scoped>\n",
       "    .dataframe tbody tr th:only-of-type {\n",
       "        vertical-align: middle;\n",
       "    }\n",
       "\n",
       "    .dataframe tbody tr th {\n",
       "        vertical-align: top;\n",
       "    }\n",
       "\n",
       "    .dataframe thead th {\n",
       "        text-align: right;\n",
       "    }\n",
       "</style>\n",
       "<table border=\"1\" class=\"dataframe\">\n",
       "  <thead>\n",
       "    <tr style=\"text-align: right;\">\n",
       "      <th></th>\n",
       "      <th>experiment</th>\n",
       "      <th>hour</th>\n",
       "      <th>date</th>\n",
       "      <th>device_make</th>\n",
       "      <th>platform_os</th>\n",
       "      <th>awareness</th>\n",
       "    </tr>\n",
       "  </thead>\n",
       "  <tbody>\n",
       "    <tr>\n",
       "      <th>0</th>\n",
       "      <td>1</td>\n",
       "      <td>2</td>\n",
       "      <td>2</td>\n",
       "      <td>4</td>\n",
       "      <td>6</td>\n",
       "      <td>0</td>\n",
       "    </tr>\n",
       "    <tr>\n",
       "      <th>1</th>\n",
       "      <td>1</td>\n",
       "      <td>16</td>\n",
       "      <td>1</td>\n",
       "      <td>13</td>\n",
       "      <td>6</td>\n",
       "      <td>1</td>\n",
       "    </tr>\n",
       "    <tr>\n",
       "      <th>2</th>\n",
       "      <td>1</td>\n",
       "      <td>8</td>\n",
       "      <td>3</td>\n",
       "      <td>13</td>\n",
       "      <td>6</td>\n",
       "      <td>0</td>\n",
       "    </tr>\n",
       "    <tr>\n",
       "      <th>3</th>\n",
       "      <td>0</td>\n",
       "      <td>4</td>\n",
       "      <td>5</td>\n",
       "      <td>43</td>\n",
       "      <td>6</td>\n",
       "      <td>1</td>\n",
       "    </tr>\n",
       "    <tr>\n",
       "      <th>4</th>\n",
       "      <td>0</td>\n",
       "      <td>15</td>\n",
       "      <td>0</td>\n",
       "      <td>13</td>\n",
       "      <td>6</td>\n",
       "      <td>0</td>\n",
       "    </tr>\n",
       "  </tbody>\n",
       "</table>\n",
       "</div>"
      ],
      "text/plain": [
       "   experiment  hour  date  device_make  platform_os  awareness\n",
       "0           1     2     2            4            6          0\n",
       "1           1    16     1           13            6          1\n",
       "2           1     8     3           13            6          0\n",
       "3           0     4     5           43            6          1\n",
       "4           0    15     0           13            6          0"
      ]
     },
     "execution_count": 18,
     "metadata": {},
     "output_type": "execute_result"
    }
   ],
   "source": [
    "#Top 5 raws grouped by platform os\n",
    "platfrom_df.head()"
   ]
  },
  {
   "cell_type": "markdown",
   "id": "8af5223a",
   "metadata": {},
   "source": [
    "Top 5 raws grouped by browser"
   ]
  },
  {
   "cell_type": "code",
   "execution_count": 19,
   "id": "d9054107",
   "metadata": {},
   "outputs": [
    {
     "data": {
      "text/html": [
       "<div>\n",
       "<style scoped>\n",
       "    .dataframe tbody tr th:only-of-type {\n",
       "        vertical-align: middle;\n",
       "    }\n",
       "\n",
       "    .dataframe tbody tr th {\n",
       "        vertical-align: top;\n",
       "    }\n",
       "\n",
       "    .dataframe thead th {\n",
       "        text-align: right;\n",
       "    }\n",
       "</style>\n",
       "<table border=\"1\" class=\"dataframe\">\n",
       "  <thead>\n",
       "    <tr style=\"text-align: right;\">\n",
       "      <th></th>\n",
       "      <th>experiment</th>\n",
       "      <th>hour</th>\n",
       "      <th>date</th>\n",
       "      <th>device_make</th>\n",
       "      <th>browser</th>\n",
       "      <th>awareness</th>\n",
       "    </tr>\n",
       "  </thead>\n",
       "  <tbody>\n",
       "    <tr>\n",
       "      <th>0</th>\n",
       "      <td>1</td>\n",
       "      <td>2</td>\n",
       "      <td>2</td>\n",
       "      <td>4</td>\n",
       "      <td>2</td>\n",
       "      <td>0</td>\n",
       "    </tr>\n",
       "    <tr>\n",
       "      <th>1</th>\n",
       "      <td>1</td>\n",
       "      <td>16</td>\n",
       "      <td>1</td>\n",
       "      <td>13</td>\n",
       "      <td>1</td>\n",
       "      <td>1</td>\n",
       "    </tr>\n",
       "    <tr>\n",
       "      <th>2</th>\n",
       "      <td>1</td>\n",
       "      <td>8</td>\n",
       "      <td>3</td>\n",
       "      <td>13</td>\n",
       "      <td>1</td>\n",
       "      <td>0</td>\n",
       "    </tr>\n",
       "    <tr>\n",
       "      <th>3</th>\n",
       "      <td>0</td>\n",
       "      <td>4</td>\n",
       "      <td>5</td>\n",
       "      <td>43</td>\n",
       "      <td>4</td>\n",
       "      <td>1</td>\n",
       "    </tr>\n",
       "    <tr>\n",
       "      <th>4</th>\n",
       "      <td>0</td>\n",
       "      <td>15</td>\n",
       "      <td>0</td>\n",
       "      <td>13</td>\n",
       "      <td>1</td>\n",
       "      <td>0</td>\n",
       "    </tr>\n",
       "  </tbody>\n",
       "</table>\n",
       "</div>"
      ],
      "text/plain": [
       "   experiment  hour  date  device_make  browser  awareness\n",
       "0           1     2     2            4        2          0\n",
       "1           1    16     1           13        1          1\n",
       "2           1     8     3           13        1          0\n",
       "3           0     4     5           43        4          1\n",
       "4           0    15     0           13        1          0"
      ]
     },
     "execution_count": 19,
     "metadata": {},
     "output_type": "execute_result"
    }
   ],
   "source": [
    "#Top 5 raws grouped by browser()\n",
    "broweser_df.head()"
   ]
  },
  {
   "cell_type": "markdown",
   "id": "bdf4992b",
   "metadata": {},
   "source": [
    "#### Save dataframes to DVC version"
   ]
  },
  {
   "cell_type": "code",
   "execution_count": 17,
   "id": "55c7d01a",
   "metadata": {},
   "outputs": [],
   "source": [
    "#file.save_csv(browser_df, \"../data/AdSmartABdata.csv\")"
   ]
  },
  {
   "cell_type": "code",
   "execution_count": 18,
   "id": "a4e1088c",
   "metadata": {},
   "outputs": [],
   "source": [
    "#file.save_csv(platfrom_df, \"../data/AdSmartABdata.csv\")"
   ]
  },
  {
   "cell_type": "markdown",
   "id": "d9f824a5",
   "metadata": {},
   "source": [
    "#### 1 Model training using Logestic Regression"
   ]
  },
  {
   "cell_type": "markdown",
   "id": "277a58dd",
   "metadata": {},
   "source": [
    "##### 1.1 Model trainig using Logestic Regression using browser dataframe"
   ]
  },
  {
   "cell_type": "code",
   "execution_count": 19,
   "id": "8f47bcbf",
   "metadata": {},
   "outputs": [],
   "source": [
    "feature_cols = [\"experiment\", \"hour\", \"date\", 'device_make', 'browser']\n",
    "\n",
    "X = broweser_df[feature_cols]\n",
    "y = broweser_df[['awareness']]\n",
    "\n",
    "test_size = 0.1\n",
    "\n",
    "X_train, X_test, y_train, y_test = train_test_split(X, y, test_size=test_size, random_state=42)"
   ]
  },
  {
   "cell_type": "code",
   "execution_count": 20,
   "id": "5173b73c",
   "metadata": {},
   "outputs": [
    {
     "name": "stdout",
     "output_type": "stream",
     "text": [
      "step 0: Validation Accuracy of LogesticRegression is: 0.545\n",
      "step 0: Validation Loss of LogesticRegression is: 0.674\n",
      "\n",
      "step 1: Validation Accuracy of LogesticRegression is: 0.561\n",
      "step 1: Validation Loss of LogesticRegression is: 0.662\n",
      "\n",
      "step 2: Validation Accuracy of LogesticRegression is: 0.511\n",
      "step 2: Validation Loss of LogesticRegression is: 0.699\n",
      "\n",
      "step 3: Validation Accuracy of LogesticRegression is: 0.527\n",
      "step 3: Validation Loss of LogesticRegression is: 0.688\n",
      "\n",
      "step 4: Validation Accuracy of LogesticRegression is: 0.597\n",
      "step 4: Validation Loss of LogesticRegression is: 0.635\n",
      "\n",
      "step 5: Validation Accuracy of LogesticRegression is: 0.559\n",
      "step 5: Validation Loss of LogesticRegression is: 0.664\n",
      "\n"
     ]
    }
   ],
   "source": [
    "logesticRegressionModel = LogesticRegressionModel(X_train, X_test,  y_train, y_test)\n",
    "\n",
    "clf2, loss_arr_2, acc_arr_2 = logesticRegressionModel.train(6)"
   ]
  },
  {
   "cell_type": "code",
   "execution_count": 21,
   "id": "f7b0929b",
   "metadata": {},
   "outputs": [
    {
     "name": "stdout",
     "output_type": "stream",
     "text": [
      "step 1: Test Accuracy of LogesticRegression is: 0.552\n",
      "Test Metrics\n",
      "================\n",
      "              precision    recall  f1-score   support\n",
      "\n",
      "           0       0.88      0.54      0.67       105\n",
      "           1       0.20      0.60      0.30        20\n",
      "\n",
      "    accuracy                           0.55       125\n",
      "   macro avg       0.54      0.57      0.49       125\n",
      "weighted avg       0.77      0.55      0.61       125\n",
      "\n"
     ]
    },
    {
     "data": {
      "image/png": "[encoded data removed]",
      "text/plain": [
       "<Figure size 432x288 with 2 Axes>"
      ]
     },
     "metadata": {
      "needs_background": "light"
     },
     "output_type": "display_data"
    }
   ],
   "source": [
    "test_acc2, test_loss2, report2, matrix2  = logesticRegressionModel.test()"
   ]
  },
  {
   "cell_type": "code",
   "execution_count": 22,
   "id": "3e70af95",
   "metadata": {},
   "outputs": [],
   "source": [
    "def calculate_p_values(df):\n",
    "    \n",
    "    d = (2.0*(1.0+np.cosh(df.clf.decision_function(X))))\n",
    "    d = np.tile(d,(X.shape[1],1)).T\n",
    "    F_ij = np.dot((X/d).T,X) ## Fisher Information Matrix\n",
    "    Cramer_Rao = np.linalg.inv(F_ij) ## Inverse Information Matrix\n",
    "    sigma_estimates = np.sqrt(np.diagonal(Cramer_Rao))\n",
    "    z_scores = df.clf.coef_[0]/sigma_estimates # z-score \n",
    "    p_values = [stat.norm.sf(abs(x)) for x in z_scores] ### two tailed test for p-values\n",
    "        \n",
    "    p_value_df = pd.DataFrame()\n",
    "    p_value_df['features'] = df.X_train.columns.to_list()\n",
    "    p_value_df['p_values'] = p_values\n",
    "        \n",
    "    return p_value_df\n",
    "def plot_pvalues(self, p_df):\n",
    "        \n",
    "    fig, ax = plt.subplots(figsize=(12,7))\n",
    "\n",
    "    ax.plot([0.05,0.05], [0.05,5])\n",
    "    sns.scatterplot(data=p_df, y='features', x='p_values', color=\"green\")\n",
    "    plt.title(\"P values of features\", size=20)\n",
    "\n",
    "    plt.xticks(np.arange(0,max(p_df['p_values']) + 0.05, 0.05))\n",
    "\n",
    "    plt.xticks(fontsize=12)\n",
    "    plt.yticks(fontsize=12)\n",
    "\n",
    "    plt.show()"
   ]
  },
  {
   "cell_type": "code",
   "execution_count": 23,
   "id": "a1931cb8",
   "metadata": {},
   "outputs": [
    {
     "data": {
      "image/png": "[encoded data removed]",
      "text/plain": [
       "<Figure size 864x504 with 1 Axes>"
      ]
     },
     "metadata": {
      "needs_background": "light"
     },
     "output_type": "display_data"
    },
    {
     "data": {
      "text/html": [
       "<div>\n",
       "<style scoped>\n",
       "    .dataframe tbody tr th:only-of-type {\n",
       "        vertical-align: middle;\n",
       "    }\n",
       "\n",
       "    .dataframe tbody tr th {\n",
       "        vertical-align: top;\n",
       "    }\n",
       "\n",
       "    .dataframe thead th {\n",
       "        text-align: right;\n",
       "    }\n",
       "</style>\n",
       "<table border=\"1\" class=\"dataframe\">\n",
       "  <thead>\n",
       "    <tr style=\"text-align: right;\">\n",
       "      <th></th>\n",
       "      <th>features</th>\n",
       "      <th>p_values</th>\n",
       "    </tr>\n",
       "  </thead>\n",
       "  <tbody>\n",
       "    <tr>\n",
       "      <th>0</th>\n",
       "      <td>experiment</td>\n",
       "      <td>0.421577</td>\n",
       "    </tr>\n",
       "    <tr>\n",
       "      <th>1</th>\n",
       "      <td>hour</td>\n",
       "      <td>0.001683</td>\n",
       "    </tr>\n",
       "    <tr>\n",
       "      <th>2</th>\n",
       "      <td>date</td>\n",
       "      <td>0.345851</td>\n",
       "    </tr>\n",
       "    <tr>\n",
       "      <th>3</th>\n",
       "      <td>device_make</td>\n",
       "      <td>0.174395</td>\n",
       "    </tr>\n",
       "    <tr>\n",
       "      <th>4</th>\n",
       "      <td>browser</td>\n",
       "      <td>0.251464</td>\n",
       "    </tr>\n",
       "  </tbody>\n",
       "</table>\n",
       "</div>"
      ],
      "text/plain": [
       "      features  p_values\n",
       "0   experiment  0.421577\n",
       "1         hour  0.001683\n",
       "2         date  0.345851\n",
       "3  device_make  0.174395\n",
       "4      browser  0.251464"
      ]
     },
     "execution_count": 23,
     "metadata": {},
     "output_type": "execute_result"
    }
   ],
   "source": [
    "p_values_df = calculate_p_values(logesticRegressionModel)\n",
    "plot_pvalues(logesticRegressionModel,p_values_df)\n",
    "p_values_df"
   ]
  },
  {
   "cell_type": "markdown",
   "id": "b66a2355",
   "metadata": {},
   "source": [
    "#### Analysis of the result\n",
    "\n",
    "To have a significance p_value must be less than 0.05. therefor from the testing we analysis that:\n",
    "* The highest contributing factor for the 'awarness' is 'hour__\n",
    "  P-value of hour is 0.001\n",
    "\n",
    "* The second contributing factor for the 'awarness' is 'device_make__\n",
    "  P-value of device_make is 0.174 \n",
    "* The least contributing factors are 'experiment & date__\n",
    "  'experiment' & 'date' feature has no statistical siginficance means it is not contributing anything for the awareness. \n"
   ]
  },
  {
   "cell_type": "markdown",
   "id": "552205cc",
   "metadata": {},
   "source": [
    "#### 1.2 Model training using Logestic Regression using platfrom dataframe"
   ]
  },
  {
   "cell_type": "code",
   "execution_count": 24,
   "id": "3c1b71cb",
   "metadata": {},
   "outputs": [],
   "source": [
    "# define feature columns for the model\n",
    "feature_cols = [\"experiment\", \"hour\", \"date\", 'device_make', 'platform_os']\n",
    "\n",
    "X = platfrom_df[feature_cols]\n",
    "y = platfrom_df[['awareness']]\n",
    "\n",
    "test_size = 0.1\n",
    "\n",
    "X_train, X_test, y_train, y_test = train_test_split(X, y, test_size=test_size, random_state=42)"
   ]
  },
  {
   "cell_type": "code",
   "execution_count": 25,
   "id": "b14630b2",
   "metadata": {},
   "outputs": [
    {
     "name": "stdout",
     "output_type": "stream",
     "text": [
      "step 0: Validation Accuracy of LogesticRegression is: 0.492\n",
      "step 0: Validation Loss of LogesticRegression is: 0.713\n",
      "\n",
      "step 1: Validation Accuracy of LogesticRegression is: 0.545\n",
      "step 1: Validation Loss of LogesticRegression is: 0.674\n",
      "\n",
      "step 2: Validation Accuracy of LogesticRegression is: 0.522\n",
      "step 2: Validation Loss of LogesticRegression is: 0.692\n",
      "\n",
      "step 3: Validation Accuracy of LogesticRegression is: 0.505\n",
      "step 3: Validation Loss of LogesticRegression is: 0.703\n",
      "\n",
      "step 4: Validation Accuracy of LogesticRegression is: 0.591\n",
      "step 4: Validation Loss of LogesticRegression is: 0.639\n",
      "\n",
      "step 5: Validation Accuracy of LogesticRegression is: 0.575\n",
      "step 5: Validation Loss of LogesticRegression is: 0.652\n",
      "\n"
     ]
    }
   ],
   "source": [
    "#Train the model\n",
    "logesticRegressionModel2 = LogesticRegressionModel(X_train, X_test,  y_train, y_test)\n",
    "clf2, loss_arr_2, acc_arr_2 = logesticRegressionModel2.train(6)"
   ]
  },
  {
   "cell_type": "code",
   "execution_count": 26,
   "id": "d07668c2",
   "metadata": {},
   "outputs": [
    {
     "name": "stdout",
     "output_type": "stream",
     "text": [
      "step 1: Test Accuracy of LogesticRegression is: 0.552\n",
      "Test Metrics\n",
      "================\n",
      "              precision    recall  f1-score   support\n",
      "\n",
      "           0       0.91      0.54      0.68       109\n",
      "           1       0.17      0.62      0.26        16\n",
      "\n",
      "    accuracy                           0.55       125\n",
      "   macro avg       0.54      0.58      0.47       125\n",
      "weighted avg       0.81      0.55      0.63       125\n",
      "\n"
     ]
    },
    {
     "data": {
      "image/png": "[encoded data removed]",
      "text/plain": [
       "<Figure size 432x288 with 2 Axes>"
      ]
     },
     "metadata": {
      "needs_background": "light"
     },
     "output_type": "display_data"
    }
   ],
   "source": [
    "#Test the model\n",
    "test_acc2, test_loss2, report2, matrix2  = logesticRegressionModel2.test()"
   ]
  },
  {
   "cell_type": "code",
   "execution_count": 27,
   "id": "603795a5",
   "metadata": {},
   "outputs": [
    {
     "data": {
      "image/png": "[encoded data removed]",
      "text/plain": [
       "<Figure size 864x504 with 1 Axes>"
      ]
     },
     "metadata": {
      "needs_background": "light"
     },
     "output_type": "display_data"
    }
   ],
   "source": [
    "#calculating and visualize P_values\n",
    "p_values_df2 = calculate_p_values(logesticRegressionModel2)\n",
    "plot_pvalues(logesticRegressionModel,p_values_df2)\n"
   ]
  },
  {
   "cell_type": "markdown",
   "id": "dc1ee8a2",
   "metadata": {},
   "source": [
    "#### Analaysis of the result"
   ]
  },
  {
   "cell_type": "markdown",
   "id": "fc55d366",
   "metadata": {},
   "source": [
    "To have a significance p_value must be less than 0.05. therefor from the testing we analysis that:\n",
    "* The highest contributing factor for the 'awarness' are plat_os_ P-value of: 0.001 and 'hour__\n",
    "  P-value:  0.001\n",
    "\n",
    "* The least contributing factors are 'experiment & date__\n",
    "  'experiment' & 'date' feature has no statistical siginficance means it is not contributing anything for the awareness. \n"
   ]
  },
  {
   "cell_type": "markdown",
   "id": "e7324167",
   "metadata": {},
   "source": [
    "### 2. Model training using Decision Tree \n",
    "\n",
    "#### 2.1 Model training using Decision Tree using browser dataframe"
   ]
  },
  {
   "cell_type": "code",
   "execution_count": 17,
   "id": "5e7c3a97",
   "metadata": {},
   "outputs": [],
   "source": [
    "#define feature columns for the train\n",
    "feature_columns = [\"experiment\", \"hour\", \"date\", 'device_make', 'browser']\n",
    "\n",
    "X = broweser_df[feature_columns]\n",
    "y = broweser_df[['awareness']]\n",
    "\n",
    "test_size = 0.1\n",
    "\n",
    "X_train, X_test, y_train, y_test = train_test_split(X, y, test_size=test_size, random_state=42)"
   ]
  },
  {
   "cell_type": "code",
   "execution_count": 18,
   "id": "6a63eb58",
   "metadata": {},
   "outputs": [
    {
     "name": "stdout",
     "output_type": "stream",
     "text": [
      "step 0: Validation Accuracy of DecisionTreesModel is: 0.561\n",
      "step 0: Validation Loss of DecisionTreesModel is: 0.662\n",
      "\n",
      "step 1: Validation Accuracy of DecisionTreesModel is: 0.503\n",
      "step 1: Validation Loss of DecisionTreesModel is: 0.705\n",
      "\n",
      "step 2: Validation Accuracy of DecisionTreesModel is: 0.543\n",
      "step 2: Validation Loss of DecisionTreesModel is: 0.676\n",
      "\n",
      "step 3: Validation Accuracy of DecisionTreesModel is: 0.522\n",
      "step 3: Validation Loss of DecisionTreesModel is: 0.692\n",
      "\n",
      "step 4: Validation Accuracy of DecisionTreesModel is: 0.554\n",
      "step 4: Validation Loss of DecisionTreesModel is: 0.668\n",
      "\n",
      "step 5: Validation Accuracy of DecisionTreesModel is: 0.548\n",
      "step 5: Validation Loss of DecisionTreesModel is: 0.672\n",
      "\n"
     ]
    }
   ],
   "source": [
    "decisionTreesModel = DecisionTreesModel(X_train, X_test,  y_train, y_test)\n",
    "\n",
    "clf, acc_arr, loss_arr = decisionTreesModel.train(6)"
   ]
  },
  {
   "cell_type": "code",
   "execution_count": 19,
   "id": "e2e2a020",
   "metadata": {},
   "outputs": [
    {
     "name": "stdout",
     "output_type": "stream",
     "text": [
      "step 1: Test Accuracy of DecisionTreesModel is: 0.528\n",
      "Test Metrics\n",
      "================\n",
      "              precision    recall  f1-score   support\n",
      "\n",
      "           0       0.98      0.52      0.68       122\n",
      "           1       0.03      0.67      0.06         3\n",
      "\n",
      "    accuracy                           0.53       125\n",
      "   macro avg       0.51      0.60      0.37       125\n",
      "weighted avg       0.96      0.53      0.67       125\n",
      "\n",
      "Loss on test data is: 0.687\n",
      "\n"
     ]
    },
    {
     "data": {
      "image/png": "[encoded data removed]",
      "text/plain": [
       "<Figure size 432x288 with 2 Axes>"
      ]
     },
     "metadata": {
      "needs_background": "light"
     },
     "output_type": "display_data"
    }
   ],
   "source": [
    "#test the model\n",
    "test_acc, loss, report, confusion_matrix = decisionTreesModel.test()\n",
    "print(f\"Loss on test data is: {loss:.3f}\")\n",
    "print()"
   ]
  },
  {
   "cell_type": "markdown",
   "id": "0959a26f",
   "metadata": {},
   "source": [
    "Calculating feature importance"
   ]
  },
  {
   "cell_type": "code",
   "execution_count": 20,
   "id": "b06bf458",
   "metadata": {},
   "outputs": [
    {
     "data": {
      "text/html": [
       "<div>\n",
       "<style scoped>\n",
       "    .dataframe tbody tr th:only-of-type {\n",
       "        vertical-align: middle;\n",
       "    }\n",
       "\n",
       "    .dataframe tbody tr th {\n",
       "        vertical-align: top;\n",
       "    }\n",
       "\n",
       "    .dataframe thead th {\n",
       "        text-align: right;\n",
       "    }\n",
       "</style>\n",
       "<table border=\"1\" class=\"dataframe\">\n",
       "  <thead>\n",
       "    <tr style=\"text-align: right;\">\n",
       "      <th></th>\n",
       "      <th>feature</th>\n",
       "      <th>feature_importances</th>\n",
       "    </tr>\n",
       "  </thead>\n",
       "  <tbody>\n",
       "    <tr>\n",
       "      <th>0</th>\n",
       "      <td>experiment</td>\n",
       "      <td>0.034541</td>\n",
       "    </tr>\n",
       "    <tr>\n",
       "      <th>1</th>\n",
       "      <td>hour</td>\n",
       "      <td>0.336136</td>\n",
       "    </tr>\n",
       "    <tr>\n",
       "      <th>2</th>\n",
       "      <td>date</td>\n",
       "      <td>0.042059</td>\n",
       "    </tr>\n",
       "    <tr>\n",
       "      <th>3</th>\n",
       "      <td>device_make</td>\n",
       "      <td>0.424922</td>\n",
       "    </tr>\n",
       "    <tr>\n",
       "      <th>4</th>\n",
       "      <td>browser</td>\n",
       "      <td>0.162342</td>\n",
       "    </tr>\n",
       "  </tbody>\n",
       "</table>\n",
       "</div>"
      ],
      "text/plain": [
       "       feature  feature_importances\n",
       "0   experiment             0.034541\n",
       "1         hour             0.336136\n",
       "2         date             0.042059\n",
       "3  device_make             0.424922\n",
       "4      browser             0.162342"
      ]
     },
     "execution_count": 20,
     "metadata": {},
     "output_type": "execute_result"
    }
   ],
   "source": [
    "decisionTreesModel.get_feature_importance()"
   ]
  },
  {
   "cell_type": "markdown",
   "id": "a513865f",
   "metadata": {},
   "source": [
    "#### Analysis of the result\n",
    "\n",
    "\n",
    "* The highest contributing factor for the 'awarness' is 'hour__ with\n",
    "  Feature importance of  0.336136\n",
    "\n",
    "* The second contributing factor for the 'awarness' is 'device_make__with\n",
    "  Feature importance of  0.335144\n",
    "\n",
    "* The third contributing factor for the 'awarness' is 'browser__with\n",
    "  Feature importance of 0.187993\n",
    "\n",
    "* The least contributing factor is 'experiment__and date:\n",
    "  'experiment' and date feature have 0 factor on Decision Tree Model, which means it is not contributing anything for the awareness. "
   ]
  },
  {
   "cell_type": "markdown",
   "id": "a5ab9e75",
   "metadata": {},
   "source": [
    "#### Visualzing feature importance"
   ]
  },
  {
   "cell_type": "code",
   "execution_count": null,
   "id": "907b4c3c",
   "metadata": {},
   "outputs": [],
   "source": [
    "#\n",
    "dot_data = StringIO()\n",
    "\n",
    "leaves_parallel=False\n",
    "feature_cols = [\"experiment\", \"hour\", \"date\", 'device_make', 'browser']\n",
    "out_put_file = \"AbTestDecisionTree.dot\"\n",
    "\n",
    "dot_data = export_graphviz(clf, out_file=out_put_file,  \n",
    "                filled=True, rounded=True,\n",
    "                special_characters=True, feature_names = feature_cols,class_names=['Aware','Not Aware'])\n",
    "\n",
    "graph = pydotplus.graphviz.graph_from_dot_file(out_put_file)\n",
    "graph.write_png('AbTestDecisionTree.png')\n",
    "\n",
    "Image(graph.create_png())"
   ]
  },
  {
   "cell_type": "markdown",
   "id": "8ef1a85d",
   "metadata": {},
   "source": [
    "#### 2.2 Model training using Decision Tree using 'platform' dataframe"
   ]
  },
  {
   "cell_type": "code",
   "execution_count": 21,
   "id": "f44bc103",
   "metadata": {},
   "outputs": [],
   "source": [
    "#defining feature columns\n",
    "feature_columns = [\"experiment\", \"hour\", \"date\", 'device_make', 'platform_os']\n",
    "\n",
    "X = platfrom_df[feature_columns]\n",
    "y = platfrom_df[['awareness']]\n",
    "\n",
    "test_size = 0.1\n",
    "\n",
    "X_train, X_test, y_train, y_test = train_test_split(X, y, test_size=test_size, random_state=42)"
   ]
  },
  {
   "cell_type": "code",
   "execution_count": 22,
   "id": "0832918f",
   "metadata": {},
   "outputs": [
    {
     "name": "stdout",
     "output_type": "stream",
     "text": [
      "step 0: Validation Accuracy of DecisionTreesModel is: 0.545\n",
      "step 0: Validation Loss of DecisionTreesModel is: 0.674\n",
      "\n",
      "step 1: Validation Accuracy of DecisionTreesModel is: 0.487\n",
      "step 1: Validation Loss of DecisionTreesModel is: 0.716\n",
      "\n",
      "step 2: Validation Accuracy of DecisionTreesModel is: 0.554\n",
      "step 2: Validation Loss of DecisionTreesModel is: 0.668\n",
      "\n",
      "step 3: Validation Accuracy of DecisionTreesModel is: 0.500\n",
      "step 3: Validation Loss of DecisionTreesModel is: 0.707\n",
      "\n",
      "step 4: Validation Accuracy of DecisionTreesModel is: 0.554\n",
      "step 4: Validation Loss of DecisionTreesModel is: 0.668\n",
      "\n",
      "step 5: Validation Accuracy of DecisionTreesModel is: 0.548\n",
      "step 5: Validation Loss of DecisionTreesModel is: 0.672\n",
      "\n"
     ]
    }
   ],
   "source": [
    "#train the model\n",
    "decisionTreesModel = DecisionTreesModel(X_train, X_test,  y_train, y_test)\n",
    "\n",
    "clf, acc_arr, loss_arr = decisionTreesModel.train(6)"
   ]
  },
  {
   "cell_type": "code",
   "execution_count": 23,
   "id": "b95b5e24",
   "metadata": {},
   "outputs": [
    {
     "name": "stdout",
     "output_type": "stream",
     "text": [
      "step 1: Test Accuracy of DecisionTreesModel is: 0.536\n",
      "Test Metrics\n",
      "================\n",
      "              precision    recall  f1-score   support\n",
      "\n",
      "           0       0.89      0.53      0.67       109\n",
      "           1       0.15      0.56      0.24        16\n",
      "\n",
      "    accuracy                           0.54       125\n",
      "   macro avg       0.52      0.55      0.45       125\n",
      "weighted avg       0.80      0.54      0.61       125\n",
      "\n",
      "Loss on test data is: 0.681\n",
      "\n"
     ]
    },
    {
     "data": {
      "image/png": "[encoded data removed]",
      "text/plain": [
       "<Figure size 432x288 with 2 Axes>"
      ]
     },
     "metadata": {
      "needs_background": "light"
     },
     "output_type": "display_data"
    }
   ],
   "source": [
    "#test model\n",
    "test_acc, loss, report, confusion_matrix = decisionTreesModel.test()\n",
    "print(f\"Loss on test data is: {loss:.3f}\")\n",
    "print()"
   ]
  },
  {
   "cell_type": "code",
   "execution_count": 24,
   "id": "2e4952b8",
   "metadata": {},
   "outputs": [
    {
     "data": {
      "text/html": [
       "<div>\n",
       "<style scoped>\n",
       "    .dataframe tbody tr th:only-of-type {\n",
       "        vertical-align: middle;\n",
       "    }\n",
       "\n",
       "    .dataframe tbody tr th {\n",
       "        vertical-align: top;\n",
       "    }\n",
       "\n",
       "    .dataframe thead th {\n",
       "        text-align: right;\n",
       "    }\n",
       "</style>\n",
       "<table border=\"1\" class=\"dataframe\">\n",
       "  <thead>\n",
       "    <tr style=\"text-align: right;\">\n",
       "      <th></th>\n",
       "      <th>feature</th>\n",
       "      <th>feature_importances</th>\n",
       "    </tr>\n",
       "  </thead>\n",
       "  <tbody>\n",
       "    <tr>\n",
       "      <th>0</th>\n",
       "      <td>experiment</td>\n",
       "      <td>0.036871</td>\n",
       "    </tr>\n",
       "    <tr>\n",
       "      <th>1</th>\n",
       "      <td>hour</td>\n",
       "      <td>0.358816</td>\n",
       "    </tr>\n",
       "    <tr>\n",
       "      <th>2</th>\n",
       "      <td>date</td>\n",
       "      <td>0.237863</td>\n",
       "    </tr>\n",
       "    <tr>\n",
       "      <th>3</th>\n",
       "      <td>device_make</td>\n",
       "      <td>0.366450</td>\n",
       "    </tr>\n",
       "    <tr>\n",
       "      <th>4</th>\n",
       "      <td>platform_os</td>\n",
       "      <td>0.000000</td>\n",
       "    </tr>\n",
       "  </tbody>\n",
       "</table>\n",
       "</div>"
      ],
      "text/plain": [
       "       feature  feature_importances\n",
       "0   experiment             0.036871\n",
       "1         hour             0.358816\n",
       "2         date             0.237863\n",
       "3  device_make             0.366450\n",
       "4  platform_os             0.000000"
      ]
     },
     "execution_count": 24,
     "metadata": {},
     "output_type": "execute_result"
    }
   ],
   "source": [
    "decisionTreesModel.get_feature_importance()"
   ]
  },
  {
   "cell_type": "markdown",
   "id": "ec325f77",
   "metadata": {},
   "source": [
    "##### Analysis the result"
   ]
  },
  {
   "cell_type": "markdown",
   "id": "1f64fca6",
   "metadata": {},
   "source": [
    "* The highest contributing factor for the 'awarness' is ' device_make__\n",
    "  Feature importance: 0.3667869\n",
    "\n",
    "* The second contributing factor for the 'awarness' is 'hour__\n",
    "  Feature importance: 0.358816\n",
    "\n",
    "* The third contributing factor for the 'awarness' is 'date\n",
    "  Feature importance: 0.237863\n",
    "* The least contributing factor is 'experiment & platform__\n",
    "  'platform' feature has 0 factor on Decision Tree Model, which means it is not contributing anything for the awareness. "
   ]
  },
  {
   "cell_type": "code",
   "execution_count": null,
   "id": "61bc98b0",
   "metadata": {},
   "outputs": [
    {
     "data": {
      "image/png": "[encoded data removed]",
      "text/plain": [
       "<IPython.core.display.Image object>"
      ]
     },
     "execution_count": 198,
     "metadata": {},
     "output_type": "execute_result"
    }
   ],
   "source": [
    "dot_data = StringIO()\n",
    "\n",
    "leaves_parallel=False\n",
    "feature_columns = [\"experiment\", \"hour\", \"date\", 'device_make', 'browser']\n",
    "out_put_file = \"AbTestDecisionTree.dot\"\n",
    "\n",
    "dot_data = export_graphviz(clf, out_file=out_put_file,  \n",
    "                filled=True, rounded=True,\n",
    "                special_characters=True, feature_names = feature_columns,class_names=['Aware','Not Aware'])\n",
    "\n",
    "graph = pydotplus.graphviz.graph_from_dot_file(out_put_file)\n",
    "graph.write_png('AbTestDecisionTree.png')\n",
    "\n",
    "Image(graph.create_png())"
   ]
  },
  {
   "cell_type": "markdown",
   "id": "06ed0e01",
   "metadata": {},
   "source": [
    "#### Random Forest\n",
    "#### 3.1 Train model using Random Forest using browser dataframe"
   ]
  },
  {
   "cell_type": "code",
   "execution_count": 21,
   "id": "7a8b3f01",
   "metadata": {},
   "outputs": [],
   "source": [
    "#set feature columns\n",
    "feature_columns = [\"experiment\", \"hour\", \"date\", 'device_make', 'browser']\n",
    "\n",
    "X = broweser_df[feature_columns]\n",
    "y = broweser_df[['awareness']]\n",
    "\n",
    "test_size = 0.1\n",
    "\n",
    "X_train, X_test, y_train, y_test = train_test_split(X, y, test_size=test_size, random_state=42)"
   ]
  },
  {
   "cell_type": "code",
   "execution_count": 22,
   "id": "5e407da6",
   "metadata": {},
   "outputs": [
    {
     "name": "stdout",
     "output_type": "stream",
     "text": [
      "step 0: Validation Accuracy of RandomForestModel is: 0.545\n",
      "step 0: Validation Loss of RandomForestModel is: 0.674\n",
      "\n",
      "step 1: Validation Accuracy of RandomForestModel is: 0.503\n",
      "step 1: Validation Loss of RandomForestModel is: 0.705\n",
      "\n",
      "step 2: Validation Accuracy of RandomForestModel is: 0.543\n",
      "step 2: Validation Loss of RandomForestModel is: 0.676\n",
      "\n",
      "step 3: Validation Accuracy of RandomForestModel is: 0.473\n",
      "step 3: Validation Loss of RandomForestModel is: 0.726\n",
      "\n",
      "step 4: Validation Accuracy of RandomForestModel is: 0.511\n",
      "step 4: Validation Loss of RandomForestModel is: 0.699\n",
      "\n",
      "step 5: Validation Accuracy of RandomForestModel is: 0.597\n",
      "step 5: Validation Loss of RandomForestModel is: 0.635\n",
      "\n"
     ]
    }
   ],
   "source": [
    "#train the model\n",
    "randomForestClassifierModel = RandomForestClassifierModel(X_train, X_test,  y_train, y_test)\n",
    "\n",
    "clf, acc_arr, loss_arr = randomForestClassifierModel.train(6)"
   ]
  },
  {
   "cell_type": "code",
   "execution_count": 23,
   "id": "b5ac134a",
   "metadata": {},
   "outputs": [
    {
     "name": "stdout",
     "output_type": "stream",
     "text": [
      "step 1: Test Accuracy of RandomForestModel is: 0.528\n",
      "Test Metrics\n",
      "================\n",
      "              precision    recall  f1-score   support\n",
      "\n",
      "           0       0.69      0.54      0.60        84\n",
      "           1       0.35      0.51      0.42        41\n",
      "\n",
      "    accuracy                           0.53       125\n",
      "   macro avg       0.52      0.52      0.51       125\n",
      "weighted avg       0.58      0.53      0.54       125\n",
      "\n",
      "Loss on test data is: 0.687\n",
      "\n"
     ]
    },
    {
     "data": {
      "image/png": "[encoded data removed]",
      "text/plain": [
       "<Figure size 432x288 with 2 Axes>"
      ]
     },
     "metadata": {
      "needs_background": "light"
     },
     "output_type": "display_data"
    }
   ],
   "source": [
    "test_acc, loss, report, confusion_matrix = randomForestClassifierModel.test()\n",
    "print(f\"Loss on test data is: {loss:.3f}\")\n",
    "print()"
   ]
  },
  {
   "cell_type": "code",
   "execution_count": 24,
   "id": "3ee73f00",
   "metadata": {},
   "outputs": [
    {
     "data": {
      "text/html": [
       "<div>\n",
       "<style scoped>\n",
       "    .dataframe tbody tr th:only-of-type {\n",
       "        vertical-align: middle;\n",
       "    }\n",
       "\n",
       "    .dataframe tbody tr th {\n",
       "        vertical-align: top;\n",
       "    }\n",
       "\n",
       "    .dataframe thead th {\n",
       "        text-align: right;\n",
       "    }\n",
       "</style>\n",
       "<table border=\"1\" class=\"dataframe\">\n",
       "  <thead>\n",
       "    <tr style=\"text-align: right;\">\n",
       "      <th></th>\n",
       "      <th>feature</th>\n",
       "      <th>feature_importances</th>\n",
       "    </tr>\n",
       "  </thead>\n",
       "  <tbody>\n",
       "    <tr>\n",
       "      <th>0</th>\n",
       "      <td>experiment</td>\n",
       "      <td>0.051234</td>\n",
       "    </tr>\n",
       "    <tr>\n",
       "      <th>1</th>\n",
       "      <td>hour</td>\n",
       "      <td>0.387582</td>\n",
       "    </tr>\n",
       "    <tr>\n",
       "      <th>2</th>\n",
       "      <td>date</td>\n",
       "      <td>0.197558</td>\n",
       "    </tr>\n",
       "    <tr>\n",
       "      <th>3</th>\n",
       "      <td>device_make</td>\n",
       "      <td>0.279995</td>\n",
       "    </tr>\n",
       "    <tr>\n",
       "      <th>4</th>\n",
       "      <td>browser</td>\n",
       "      <td>0.083631</td>\n",
       "    </tr>\n",
       "  </tbody>\n",
       "</table>\n",
       "</div>"
      ],
      "text/plain": [
       "       feature  feature_importances\n",
       "0   experiment             0.051234\n",
       "1         hour             0.387582\n",
       "2         date             0.197558\n",
       "3  device_make             0.279995\n",
       "4      browser             0.083631"
      ]
     },
     "execution_count": 24,
     "metadata": {},
     "output_type": "execute_result"
    }
   ],
   "source": [
    "randomForestClassifierModel.get_feature_importance()"
   ]
  },
  {
   "cell_type": "markdown",
   "id": "0f06a542",
   "metadata": {},
   "source": [
    "#### Result Analaysis"
   ]
  },
  {
   "cell_type": "markdown",
   "id": "6b43971f",
   "metadata": {},
   "source": [
    "The highest contributing factor for the 'awarness' is ' hour__ Feature importance: 0.388104\n",
    "\n",
    "The second contributing factor for the 'awarness' is 'device_make__ Feature importance: 0.287511\n",
    "\n",
    "The third contributing factor for the 'awarness' is 'date Feature importance: 0.188162\n",
    "\n",
    "The least contributing factor for the awarness are 'experiment & browser."
   ]
  },
  {
   "cell_type": "markdown",
   "id": "1fb48a6d",
   "metadata": {},
   "source": [
    "#### 3.2 Train model using Random Forest using platform dataframe"
   ]
  },
  {
   "cell_type": "code",
   "execution_count": 26,
   "id": "5bc680d0",
   "metadata": {},
   "outputs": [],
   "source": [
    "#set feature columns\n",
    "feature_cols = [\"experiment\", \"hour\", \"date\", 'device_make', 'platform_os']\n",
    "\n",
    "X = platfrom_df[feature_cols]\n",
    "y = platfrom_df[['awareness']]\n",
    "\n",
    "test_size = 0.1\n",
    "\n",
    "X_train, X_test, y_train, y_test = train_test_split(X, y, test_size=test_size, random_state=42)"
   ]
  },
  {
   "cell_type": "code",
   "execution_count": 27,
   "id": "6a19cddc",
   "metadata": {},
   "outputs": [
    {
     "name": "stdout",
     "output_type": "stream",
     "text": [
      "step 0: Validation Accuracy of RandomForestModel is: 0.551\n",
      "step 0: Validation Loss of RandomForestModel is: 0.670\n",
      "\n",
      "step 1: Validation Accuracy of RandomForestModel is: 0.513\n",
      "step 1: Validation Loss of RandomForestModel is: 0.698\n",
      "\n",
      "step 2: Validation Accuracy of RandomForestModel is: 0.570\n",
      "step 2: Validation Loss of RandomForestModel is: 0.656\n",
      "\n",
      "step 3: Validation Accuracy of RandomForestModel is: 0.478\n",
      "step 3: Validation Loss of RandomForestModel is: 0.722\n",
      "\n",
      "step 4: Validation Accuracy of RandomForestModel is: 0.548\n",
      "step 4: Validation Loss of RandomForestModel is: 0.672\n",
      "\n",
      "step 5: Validation Accuracy of RandomForestModel is: 0.586\n",
      "step 5: Validation Loss of RandomForestModel is: 0.643\n",
      "\n"
     ]
    }
   ],
   "source": [
    "#train the model\n",
    "randomForestClassifier2 = RandomForestClassifierModel(X_train, X_test,  y_train, y_test)\n",
    "clf, acc_arr, loss_arr = randomForestClassifier2.train(6)"
   ]
  },
  {
   "cell_type": "code",
   "execution_count": 28,
   "id": "08f5833a",
   "metadata": {
    "scrolled": true
   },
   "outputs": [
    {
     "name": "stdout",
     "output_type": "stream",
     "text": [
      "step 1: Test Accuracy of RandomForestModel is: 0.536\n",
      "Test Metrics\n",
      "================\n",
      "              precision    recall  f1-score   support\n",
      "\n",
      "           0       0.69      0.54      0.61        83\n",
      "           1       0.37      0.52      0.43        42\n",
      "\n",
      "    accuracy                           0.54       125\n",
      "   macro avg       0.53      0.53      0.52       125\n",
      "weighted avg       0.58      0.54      0.55       125\n",
      "\n",
      "Loss on test data is: 0.681\n",
      "\n"
     ]
    },
    {
     "data": {
      "image/png": "[encoded data removed]",
      "text/plain": [
       "<Figure size 432x288 with 2 Axes>"
      ]
     },
     "metadata": {
      "needs_background": "light"
     },
     "output_type": "display_data"
    }
   ],
   "source": [
    "#test the model\n",
    "test_acc, loss, report, confusion_matrix = randomForestClassifier2.test()\n",
    "print(f\"Loss on test data is: {loss:.3f}\")\n",
    "print()"
   ]
  },
  {
   "cell_type": "code",
   "execution_count": 29,
   "id": "4ff1d2ce",
   "metadata": {},
   "outputs": [
    {
     "data": {
      "text/html": [
       "<div>\n",
       "<style scoped>\n",
       "    .dataframe tbody tr th:only-of-type {\n",
       "        vertical-align: middle;\n",
       "    }\n",
       "\n",
       "    .dataframe tbody tr th {\n",
       "        vertical-align: top;\n",
       "    }\n",
       "\n",
       "    .dataframe thead th {\n",
       "        text-align: right;\n",
       "    }\n",
       "</style>\n",
       "<table border=\"1\" class=\"dataframe\">\n",
       "  <thead>\n",
       "    <tr style=\"text-align: right;\">\n",
       "      <th></th>\n",
       "      <th>feature</th>\n",
       "      <th>feature_importances</th>\n",
       "    </tr>\n",
       "  </thead>\n",
       "  <tbody>\n",
       "    <tr>\n",
       "      <th>0</th>\n",
       "      <td>experiment</td>\n",
       "      <td>0.037643</td>\n",
       "    </tr>\n",
       "    <tr>\n",
       "      <th>1</th>\n",
       "      <td>hour</td>\n",
       "      <td>0.414375</td>\n",
       "    </tr>\n",
       "    <tr>\n",
       "      <th>2</th>\n",
       "      <td>date</td>\n",
       "      <td>0.186161</td>\n",
       "    </tr>\n",
       "    <tr>\n",
       "      <th>3</th>\n",
       "      <td>device_make</td>\n",
       "      <td>0.357911</td>\n",
       "    </tr>\n",
       "    <tr>\n",
       "      <th>4</th>\n",
       "      <td>platform_os</td>\n",
       "      <td>0.003910</td>\n",
       "    </tr>\n",
       "  </tbody>\n",
       "</table>\n",
       "</div>"
      ],
      "text/plain": [
       "       feature  feature_importances\n",
       "0   experiment             0.037643\n",
       "1         hour             0.414375\n",
       "2         date             0.186161\n",
       "3  device_make             0.357911\n",
       "4  platform_os             0.003910"
      ]
     },
     "execution_count": 29,
     "metadata": {},
     "output_type": "execute_result"
    }
   ],
   "source": [
    "#compute feature importance\n",
    "randomForestClassifier2.get_feature_importance()"
   ]
  },
  {
   "cell_type": "markdown",
   "id": "367a6c9a",
   "metadata": {},
   "source": [
    "#### Result Analaysis"
   ]
  },
  {
   "cell_type": "markdown",
   "id": "26bcfee3",
   "metadata": {},
   "source": [
    "* The highest contributing factor for the 'awarness' is ' hour__ Feature importance: 0.403919\n",
    "* The second contributing factor for the 'awarness' is 'device_make__ Feature importance: 0.360734\n",
    "* The third contributing factor for the 'awarness' is 'date_ Feature importance: 0.193033\n",
    "* The least contributing factor for the awarness are 'experiment & browser."
   ]
  },
  {
   "cell_type": "markdown",
   "id": "0b263044",
   "metadata": {},
   "source": [
    "#### 4. XGBoost\n",
    "#### 4.1 Train model using XGBoost using browser datafram"
   ]
  },
  {
   "cell_type": "code",
   "execution_count": null,
   "id": "833a2afb",
   "metadata": {},
   "outputs": [],
   "source": [
    "#I have issue of XGBOOST package with my Os so..."
   ]
  },
  {
   "cell_type": "code",
   "execution_count": null,
   "id": "1d53e10b",
   "metadata": {},
   "outputs": [],
   "source": [
    "# set feature columns\n",
    "feature_columns = [\"experiment\", \"hour\", \"date\", 'device_make', 'browser']\n",
    "\n",
    "X = broweser_df[feature_columns]\n",
    "y = broweser_df[['awareness']]\n",
    "\n",
    "test_size = 0.1\n",
    "\n",
    "X_train, X_test, y_train, y_test = train_test_split(X, y, test_size=test_size, random_state=42)"
   ]
  },
  {
   "cell_type": "code",
   "execution_count": null,
   "id": "8a9f186a",
   "metadata": {},
   "outputs": [],
   "source": [
    "# train model\n",
    "xgbClassifierModel = XGBClassifierModel(X_train, X_test,  y_train, y_test)\n",
    "\n",
    "clf, acc_arr, loss_arr = xgbClassifierModel.train(6)"
   ]
  },
  {
   "cell_type": "code",
   "execution_count": null,
   "id": "0bfadf57",
   "metadata": {},
   "outputs": [],
   "source": [
    "# test model\n",
    "test_acc, loss, report, confusion_matrix = xgbClassifierModel.test()\n",
    "print(f\"Loss on test data is: {loss:.3f}\")\n",
    "print()"
   ]
  },
  {
   "cell_type": "code",
   "execution_count": null,
   "id": "6f4d6c60",
   "metadata": {},
   "outputs": [],
   "source": [
    "#compute feature importance\n",
    "xgbClassifierModel.get_feature_importance()"
   ]
  },
  {
   "cell_type": "markdown",
   "id": "c99e08fc",
   "metadata": {},
   "source": [
    "#### 4.2 Train model using XGBoost using Platform datafram"
   ]
  },
  {
   "cell_type": "code",
   "execution_count": null,
   "id": "174f4046",
   "metadata": {},
   "outputs": [],
   "source": [
    "#set feature columns\n",
    "feature_cols = [\"experiment\", \"hour\", \"date\", 'device_make', 'platform_os']\n",
    "\n",
    "X = platfrom_df[feature_cols]\n",
    "y = platfrom_df[['awareness']]\n",
    "\n",
    "test_size = 0.1\n",
    "\n",
    "X_train, X_test, y_train, y_test = train_test_split(X, y, test_size=test_size, random_state=42)"
   ]
  },
  {
   "cell_type": "code",
   "execution_count": null,
   "id": "d95d09b3",
   "metadata": {},
   "outputs": [],
   "source": [
    "#train model\n",
    "xgbClassifierModel2 = XGBClassifierModel(X_train, X_test,  y_train, y_test)\n",
    "\n",
    "clf, acc_arr, loss_arr = xgbClassifierModel2.train(6)"
   ]
  },
  {
   "cell_type": "code",
   "execution_count": null,
   "id": "9d1a7616",
   "metadata": {},
   "outputs": [],
   "source": [
    "#test model\n",
    "test_acc, loss, report, confusion_matrix = xgbClassifierModel2.test()\n",
    "print(f\"Loss on test data is: {loss:.3f}\")\n",
    "print()"
   ]
  },
  {
   "cell_type": "code",
   "execution_count": null,
   "id": "18aa2973",
   "metadata": {},
   "outputs": [],
   "source": [
    "#compute feature importance\n",
    "xgbClassifierModel2.get_feature_importance()"
   ]
  }
 ],
 "metadata": {
  "kernelspec": {
   "display_name": "Python 3 (ipykernel)",
   "language": "python",
   "name": "python3"
  },
  "language_info": {
   "codemirror_mode": {
    "name": "ipython",
    "version": 3
   },
   "file_extension": ".py",
   "mimetype": "text/x-python",
   "name": "python",
   "nbconvert_exporter": "python",
   "pygments_lexer": "ipython3",
   "version": "3.9.1"
  }
 },
 "nbformat": 4,
 "nbformat_minor": 5
}
