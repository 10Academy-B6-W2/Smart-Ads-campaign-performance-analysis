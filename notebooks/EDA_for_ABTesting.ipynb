{
 "cells": [
  {
   "cell_type": "markdown",
   "id": "bf67d5d5",
   "metadata": {},
   "source": [
    "### Exploratory data analysis "
   ]
  },
  {
   "cell_type": "markdown",
   "id": "9c9e55b4",
   "metadata": {},
   "source": [
    "##### Importing scripts folder"
   ]
  },
  {
   "cell_type": "code",
   "execution_count": 2,
   "id": "27df7ce2",
   "metadata": {},
   "outputs": [],
   "source": [
    "import os\n",
    "import sys\n",
    "sys.path.append(os.path.abspath(os.path.join('../scripts')))"
   ]
  },
  {
   "cell_type": "markdown",
   "id": "2c69e053",
   "metadata": {},
   "source": [
    "##### Importing Libraries"
   ]
  },
  {
   "cell_type": "code",
   "execution_count": 3,
   "id": "ef80aa4a",
   "metadata": {},
   "outputs": [],
   "source": [
    "import pandas as pd\n",
    "import numpy as np\n",
    "import seaborn as sns\n",
    "import matplotlib.pyplot as plt\n",
    "import plotly.express as px\n",
    "sns.set()"
   ]
  },
  {
   "cell_type": "markdown",
   "id": "9304e164",
   "metadata": {},
   "source": [
    "##### Importing scripts folder & modules"
   ]
  },
  {
   "cell_type": "code",
   "execution_count": 4,
   "id": "ed930af7",
   "metadata": {},
   "outputs": [],
   "source": [
    "from file import Myfile\n",
    "import util\n",
    "import plot"
   ]
  },
  {
   "cell_type": "markdown",
   "id": "0c2c1c14",
   "metadata": {},
   "source": [
    "##### Loading the data"
   ]
  },
  {
   "cell_type": "code",
   "execution_count": 5,
   "id": "22cd10ad",
   "metadata": {},
   "outputs": [],
   "source": [
    "path = \"../data/AdSmartABdata.csv\""
   ]
  },
  {
   "cell_type": "code",
   "execution_count": null,
   "id": "12c785b2",
   "metadata": {},
   "outputs": [],
   "source": [
    "# initialize the class that has utility function we are going to use\n",
    "file = Myfile()"
   ]
  }
 ],
 "metadata": {
  "kernelspec": {
   "display_name": "Python 3 (ipykernel)",
   "language": "python",
   "name": "python3"
  },
  "language_info": {
   "codemirror_mode": {
    "name": "ipython",
    "version": 3
   },
   "file_extension": ".py",
   "mimetype": "text/x-python",
   "name": "python",
   "nbconvert_exporter": "python",
   "pygments_lexer": "ipython3",
   "version": "3.9.12"
  }
 },
 "nbformat": 4,
 "nbformat_minor": 5
}
