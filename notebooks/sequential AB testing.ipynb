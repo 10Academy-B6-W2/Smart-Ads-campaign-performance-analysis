{
 "cells": [
  {
   "cell_type": "markdown",
   "id": "3df4aeee",
   "metadata": {},
   "source": [
    "## Sequential A/B Testing Analysis\n",
    "\n",
    "### Conditional SPRT\n",
    "\n",
    "\n"
   ]
  },
  {
   "cell_type": "code",
   "execution_count": 197,
   "id": "a57e5f9b",
   "metadata": {},
   "outputs": [],
   "source": [
    "import pandas as pd\n",
    "import sys\n",
    "sys.path.insert(0,'../scripts/')\n",
    "from sequential_testing import transform_data, ConditionalSPRT\n",
    "\n",
    "path= '../data/AdSmartABdata.csv'\n",
    "data = pd.read_csv(path)\n",
    "\n",
    "exposed = transform_data(data)[0]\n",
    "control = transform_data(data)[1]\n",
    "\n",
    "ConditionalSPRT()\n",
    "\n"
   ]
  }
 ],
 "metadata": {
  "kernelspec": {
   "display_name": "Python 3 (ipykernel)",
   "language": "python",
   "name": "python3"
  },
  "language_info": {
   "codemirror_mode": {
    "name": "ipython",
    "version": 3
   },
   "file_extension": ".py",
   "mimetype": "text/x-python",
   "name": "python",
   "nbconvert_exporter": "python",
   "pygments_lexer": "ipython3",
   "version": "3.9.1"
  }
 },
 "nbformat": 4,
 "nbformat_minor": 5
}
