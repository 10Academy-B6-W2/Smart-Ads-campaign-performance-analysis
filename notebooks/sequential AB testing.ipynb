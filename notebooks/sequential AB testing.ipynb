{
 "cells": [
  {
   "cell_type": "markdown",
   "id": "3df4aeee",
   "metadata": {},
   "source": [
    "# Sequential A/B Testing Analysis\n",
    "\n",
    "\n",
    "\n",
    "\n"
   ]
  },
  {
   "cell_type": "code",
   "execution_count": 2,
   "id": "a57e5f9b",
   "metadata": {},
   "outputs": [],
   "source": [
    "#import required libraries\n",
    "import pandas as pd\n",
    "import numpy as np\n",
    "import sys\n",
    "sys.path.insert(0,'../scripts/')\n",
    "from sequential_testing import transform_data, ConditionalSPRT, plot_cumulative"
   ]
  },
  {
   "cell_type": "code",
   "execution_count": 3,
   "id": "ac47af62",
   "metadata": {},
   "outputs": [],
   "source": [
    "#Load data\n",
    "path= '../data/AdSmartABdata.csv'\n",
    "data = pd.read_csv(path)"
   ]
  },
  {
   "cell_type": "markdown",
   "id": "dfa7c39a",
   "metadata": {},
   "source": [
    "## Conditional SPRT\n",
    "### Use Conditional SPRT to perform sequential A/B testing."
   ]
  },
  {
   "cell_type": "code",
   "execution_count": 11,
   "id": "e6a2c1b0",
   "metadata": {},
   "outputs": [],
   "source": [
    "#Set exposed, control and odd_ratio variables for ConditionalSPRT fucntion\n",
    "exposed = np.array(transform_data(data)[0])\n",
    "control = np.array(transform_data(data)[1])\n",
    "odd_ratio = 1.2\n",
    "\n",
    "conditional_sprt = ConditionalSPRT(x=exposed,y=control,t1=odd_ratio)\n"
   ]
  },
  {
   "cell_type": "markdown",
   "id": "1ab4cbde",
   "metadata": {},
   "source": [
    "### Outcome of our test"
   ]
  },
  {
   "cell_type": "code",
   "execution_count": 12,
   "id": "5c247b69",
   "metadata": {},
   "outputs": [
    {
     "data": {
      "text/plain": [
       "'Exposed group produced a statistically significant increase.'"
      ]
     },
     "execution_count": 12,
     "metadata": {},
     "output_type": "execute_result"
    }
   ],
   "source": [
    "conditional_sprt[0]\n"
   ]
  },
  {
   "cell_type": "markdown",
   "id": "7808aed6",
   "metadata": {},
   "source": [
    "### Upper critical point"
   ]
  },
  {
   "cell_type": "code",
   "execution_count": 13,
   "id": "42690830",
   "metadata": {},
   "outputs": [
    {
     "data": {
      "text/plain": [
       "2.8903717578961645"
      ]
     },
     "execution_count": 13,
     "metadata": {},
     "output_type": "execute_result"
    }
   ],
   "source": [
    "conditional_sprt[4]"
   ]
  },
  {
   "cell_type": "markdown",
   "id": "84ac111a",
   "metadata": {},
   "source": [
    "### Lower critical point"
   ]
  },
  {
   "cell_type": "code",
   "execution_count": 15,
   "id": "017c1a1e",
   "metadata": {},
   "outputs": [
    {
     "data": {
      "text/plain": [
       "-2.251291798606495"
      ]
     },
     "execution_count": 15,
     "metadata": {},
     "output_type": "execute_result"
    }
   ],
   "source": [
    "conditional_sprt[3]"
   ]
  },
  {
   "cell_type": "markdown",
   "id": "8979b074",
   "metadata": {},
   "source": [
    "### Number observation used for the decsion"
   ]
  },
  {
   "cell_type": "code",
   "execution_count": 16,
   "id": "66434ae2",
   "metadata": {},
   "outputs": [
    {
     "data": {
      "text/plain": [
       "array([  1,   2,   3,   4,   5,   6,   7,   8,   9,  10,  11,  12,  13,\n",
       "        14,  15,  16,  17,  18,  19,  20,  21,  22,  23,  24,  25,  26,\n",
       "        27,  28,  29,  30,  31,  32,  33,  34,  35,  36,  37,  38,  39,\n",
       "        40,  41,  42,  43,  44,  45,  46,  47,  48,  49,  50,  51,  52,\n",
       "        53,  54,  55,  56,  57,  58,  59,  60,  61,  62,  63,  64,  65,\n",
       "        66,  67,  68,  69,  70,  71,  72,  73,  74,  75,  76,  77,  78,\n",
       "        79,  80,  81,  82,  83,  84,  85,  86,  87,  88,  89,  90,  91,\n",
       "        92,  93,  94,  95,  96,  97,  98,  99, 100, 101, 102, 103, 104,\n",
       "       105, 106, 107, 108, 109, 110, 111, 112, 113, 114, 115, 116, 117,\n",
       "       118, 119, 120, 121, 122, 123, 124, 125, 126, 127, 128, 129, 130,\n",
       "       131, 132, 133, 134, 135, 136, 137, 138, 139, 140, 141, 142, 143,\n",
       "       144, 145, 146, 147, 148, 149, 150, 151, 152, 153, 154, 155, 156,\n",
       "       157, 158, 159, 160, 161, 162, 163, 164, 165, 166, 167, 168, 169,\n",
       "       170, 171, 172, 173, 174, 175, 176, 177, 178, 179, 180, 181, 182,\n",
       "       183, 184, 185, 186, 187, 188, 189, 190, 191, 192, 193, 194, 195,\n",
       "       196, 197, 198, 199, 200, 201, 202, 203, 204, 205, 206, 207, 208,\n",
       "       209, 210, 211, 212, 213, 214, 215, 216, 217, 218, 219, 220, 221,\n",
       "       222, 223, 224, 225, 226, 227, 228, 229, 230, 231, 232, 233, 234,\n",
       "       235, 236, 237, 238, 239, 240, 241, 242, 243, 244, 245, 246, 247,\n",
       "       248, 249, 250, 251, 252, 253, 254, 255, 256, 257, 258, 259, 260,\n",
       "       261, 262, 263, 264, 265, 266, 267, 268, 269, 270, 271, 272, 273,\n",
       "       274, 275, 276, 277, 278, 279, 280, 281, 282, 283, 284, 285, 286,\n",
       "       287, 288, 289, 290, 291, 292, 293, 294, 295, 296, 297, 298, 299,\n",
       "       300, 301, 302, 303, 304, 305, 306, 307, 308, 309, 310, 311, 312,\n",
       "       313, 314, 315, 316, 317, 318, 319, 320, 321, 322, 323, 324, 325,\n",
       "       326, 327, 328, 329, 330, 331, 332, 333, 334, 335, 336, 337, 338,\n",
       "       339, 340, 341, 342, 343, 344, 345, 346, 347, 348, 349, 350, 351,\n",
       "       352, 353, 354, 355, 356, 357, 358, 359, 360, 361, 362, 363, 364,\n",
       "       365, 366, 367, 368, 369, 370, 371, 372, 373, 374, 375, 376, 377,\n",
       "       378, 379, 380, 381, 382, 383, 384, 385, 386, 387, 388, 389, 390,\n",
       "       391, 392, 393, 394, 395, 396, 397, 398, 399, 400, 401, 402, 403,\n",
       "       404, 405, 406, 407, 408, 409, 410, 411, 412, 413, 414, 415, 416,\n",
       "       417, 418, 419, 420, 421, 422, 423, 424, 425, 426, 427, 428, 429,\n",
       "       430, 431, 432, 433, 434, 435, 436, 437, 438, 439, 440, 441, 442,\n",
       "       443, 444, 445, 446, 447, 448, 449, 450, 451, 452, 453, 454, 455,\n",
       "       456, 457, 458, 459, 460, 461, 462, 463, 464, 465, 466, 467, 468,\n",
       "       469, 470, 471, 472, 473, 474, 475, 476, 477, 478, 479, 480, 481,\n",
       "       482, 483, 484, 485, 486, 487, 488, 489, 490, 491, 492, 493, 494,\n",
       "       495, 496, 497, 498, 499, 500, 501, 502, 503, 504, 505, 506, 507,\n",
       "       508, 509, 510, 511, 512, 513, 514, 515, 516, 517, 518, 519, 520,\n",
       "       521, 522, 523, 524, 525, 526, 527, 528, 529, 530, 531, 532, 533,\n",
       "       534, 535, 536, 537, 538, 539, 540, 541, 542, 543, 544, 545, 546,\n",
       "       547, 548, 549, 550, 551, 552, 553, 554, 555, 556, 557, 558, 559,\n",
       "       560, 561, 562, 563, 564, 565, 566, 567, 568, 569, 570, 571, 572,\n",
       "       573, 574, 575, 576, 577, 578, 579, 580, 581, 582, 583, 584, 585,\n",
       "       586])"
      ]
     },
     "execution_count": 16,
     "metadata": {},
     "output_type": "execute_result"
    }
   ],
   "source": [
    "conditional_sprt[1]"
   ]
  },
  {
   "cell_type": "markdown",
   "id": "064845ba",
   "metadata": {},
   "source": [
    "### Plot Upper bound, Lower bound and Cumulative values. "
   ]
  },
  {
   "cell_type": "code",
   "execution_count": 17,
   "id": "56bcbd1f",
   "metadata": {},
   "outputs": [
    {
     "data": {
      "image/png": "[encoded data removed]",
      "text/plain": [
       "<Figure size 432x288 with 1 Axes>"
      ]
     },
     "metadata": {
      "needs_background": "light"
     },
     "output_type": "display_data"
    }
   ],
   "source": [
    "limits = conditional_sprt[10]\n",
    "lower_limit = limits[:, 0]\n",
    "upper_limit = limits[:,1]\n",
    "x1 = conditional_sprt[7]\n",
    "r = conditional_sprt[8]\n",
    "\n",
    "plot_cumulative(upper_limit, lower_limit, r, x1)"
   ]
  }
 ],
 "metadata": {
  "kernelspec": {
   "display_name": "Python 3 (ipykernel)",
   "language": "python",
   "name": "python3"
  },
  "language_info": {
   "codemirror_mode": {
    "name": "ipython",
    "version": 3
   },
   "file_extension": ".py",
   "mimetype": "text/x-python",
   "name": "python",
   "nbconvert_exporter": "python",
   "pygments_lexer": "ipython3",
   "version": "3.9.1"
  }
 },
 "nbformat": 4,
 "nbformat_minor": 5
}
